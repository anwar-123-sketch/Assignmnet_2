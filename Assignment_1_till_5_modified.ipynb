{
  "cells": [
    {
      "cell_type": "code",
      "execution_count": null,
      "id": "0e51e8f1",
      "metadata": {
        "id": "0e51e8f1"
      },
      "outputs": [],
      "source": [
        "\n"
      ]
    },
    {
      "cell_type": "markdown",
      "id": "168705ce",
      "metadata": {
        "id": "168705ce"
      },
      "source": [
        "Name = \"Anwar Siraj\"\n",
        "Age = \"35-Years\"\n",
        "Country = \"Pakistan\"\n",
        "Mobile_No=\"03158956255\"\n",
        "print(\"My name is \",Name,\"I am\",Age,\"years old,\",\"I live in country\", ,Country,\"My Contact#is:\",Mobile_No)"
      ]
    },
    {
      "cell_type": "code",
      "execution_count": null,
      "id": "ad9aa52c",
      "metadata": {
        "colab": {
          "base_uri": "https://localhost:8080/"
        },
        "id": "ad9aa52c",
        "outputId": "de701b3e-6eed-4c43-ffba-a61ca5350945"
      },
      "outputs": [
        {
          "name": "stdout",
          "output_type": "stream",
          "text": [
            "My name is  Anwar Siraj I am 35-Years years old, I live in country Pakistan My Contact#is: 03158956255\n"
          ]
        }
      ],
      "source": [
        "# Assignment #1\n",
        "Name = \"Anwar Siraj\"\n",
        "Age = \"35-Years\"\n",
        "Country = \"Pakistan\"\n",
        "Mobile_No=\"03158956255\"\n",
        "print(\"My name is \",Name,\"I am\",Age,\"years old,\",\"I live in country\", Country,\"My Contact#is:\",Mobile_No)"
      ]
    },
    {
      "cell_type": "code",
      "execution_count": null,
      "id": "9dce67a1",
      "metadata": {
        "id": "9dce67a1",
        "outputId": "1b2878aa-5666-4c34-9976-31341e23ea30"
      },
      "outputs": [
        {
          "name": "stdout",
          "output_type": "stream",
          "text": [
            "total cost of five-05 computers is :Rs. 50000 /-\n"
          ]
        }
      ],
      "source": [
        "# Assnment 2\n",
        "# Student Name: Anwar Siraj\n",
        "Product = \"Computer\"\n",
        "Quantity = 5\n",
        "cost_per_Unit = 10000\n",
        "total_cost = Quantity * cost_per_Unit\n",
        "print(\"total cost of five-05 computers is :Rs.\", total_cost,\"/-\")\n",
        "\n"
      ]
    },
    {
      "cell_type": "code",
      "execution_count": null,
      "id": "a53ef508",
      "metadata": {
        "id": "a53ef508",
        "outputId": "a1e20b73-d96f-4332-e63f-ba711a0330a5"
      },
      "outputs": [
        {
          "name": "stdout",
          "output_type": "stream",
          "text": [
            "Today karachi temerature is Weather and its is an good 34°C for picnic\n"
          ]
        }
      ],
      "source": [
        "# ASSIGNMENT# 3\n",
        "# String Interpolation using `f''`\n",
        "# PGD-Batch-V,\"Data Science with Artificial Intelligence\"\n",
        "\n",
        "temperature = \"Weather\"\n",
        "Deg = \"34°C\"\n",
        "City = \"Karachi\"\n",
        "temp = f\"Today karachi temerature is {temperature} and its is an good {Deg} for picnic\"\n",
        "print(temp)"
      ]
    },
    {
      "cell_type": "code",
      "execution_count": null,
      "id": "9c8c50b3",
      "metadata": {
        "id": "9c8c50b3",
        "outputId": "39502d5b-10e5-421a-aeab-9f9126ba969d"
      },
      "outputs": [
        {
          "name": "stdout",
          "output_type": "stream",
          "text": [
            "My name is Anwar. I am 36 years old.\n"
          ]
        }
      ],
      "source": [
        "# Assignment # 4\n",
        "# Create the variables\n",
        "first_name = \"Anwar\"\n",
        "last_name = \"Siraj\"\n",
        "birth_year = 1987\n",
        "\n",
        "# Calculate the age\n",
        "age = 2023 - birth_year\n",
        "\n",
        "# Create the formatted string\n",
        "formatted_string = \"My name is %s. I am %d years old.\"%(first_name, age)\n",
        "\n",
        "# Print the formatted string\n",
        "print(formatted_string)"
      ]
    },
    {
      "cell_type": "code",
      "execution_count": null,
      "id": "b53d4907",
      "metadata": {
        "id": "b53d4907",
        "outputId": "99b09cc5-618e-4f11-b200-b47309e7a102"
      },
      "outputs": [
        {
          "name": "stdout",
          "output_type": "stream",
          "text": [
            "Product: ~ Speaker\n",
            "Original Price: 505\n",
            "Discount: 33%\n",
            "Payable Amount: 338.35\n"
          ]
        }
      ],
      "source": [
        "# ASSIGNMENT# 5\n",
        "# Combining Formatting Methods\n",
        "# PGD-Batch-V,\"Data Science with Artificial Intelligence\"\n",
        "\n",
        "product = \"~ Speaker\"\n",
        "discount = 33\n",
        "original_price = 505\n",
        "\n",
        "payable_amount = original_price * (1 - discount / 100)\n",
        "\n",
        "descriptive_string = \"Product: {}\\nOriginal Price: {}\\nDiscount: {}%\\nPayable Amount: {:.2f}\".format(\n",
        "    product, original_price, discount, payable_amount)\n",
        "\n",
        "print(descriptive_string)\n",
        "\n",
        "\n",
        "\n"
      ]
    },
    {
      "cell_type": "code",
      "execution_count": null,
      "id": "f6606873",
      "metadata": {
        "id": "f6606873"
      },
      "outputs": [],
      "source": []
    }
  ],
  "metadata": {
    "colab": {
      "provenance": []
    },
    "kernelspec": {
      "display_name": "Python 3 (ipykernel)",
      "language": "python",
      "name": "python3"
    },
    "language_info": {
      "codemirror_mode": {
        "name": "ipython",
        "version": 3
      },
      "file_extension": ".py",
      "mimetype": "text/x-python",
      "name": "python",
      "nbconvert_exporter": "python",
      "pygments_lexer": "ipython3",
      "version": "3.11.4"
    }
  },
  "nbformat": 4,
  "nbformat_minor": 5
}
